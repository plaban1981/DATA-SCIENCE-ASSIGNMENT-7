{
 "cells": [
  {
   "cell_type": "code",
   "execution_count": 1,
   "metadata": {},
   "outputs": [],
   "source": [
    "import numpy as np"
   ]
  },
  {
   "cell_type": "code",
   "execution_count": 31,
   "metadata": {},
   "outputs": [],
   "source": [
    "#Function to find moving average in an array over a window:\n",
    "def moving_average(num_list,mvavg,mvavg_seq):\n",
    "    \n",
    "    x = np.ones(mvavg_seq)\n",
    "    \n",
    "    for i in range(mvavg_seq):\n",
    "        summ = 0\n",
    "        for j in range(0,mvavg):\n",
    "            #print(num_list[i+j])\n",
    "            summ += num_list[i +j] \n",
    "        x[i] = summ / mvavg\n",
    "        \n",
    "    \n",
    "    return x\n"
   ]
  },
  {
   "cell_type": "code",
   "execution_count": 33,
   "metadata": {},
   "outputs": [
    {
     "name": "stdout",
     "output_type": "stream",
     "text": [
      "Number of moving average sequence values :  7\n",
      "[ 25.  35.  45.  55.  65.  75.  85.]\n"
     ]
    }
   ],
   "source": [
    "num_list = [10,20,30,40,50,60,70,80,90,100]\n",
    "mvavg = 4\n",
    "mvavg_seq = len(num_list) - mvavg + 1\n",
    "print(\"Number of moving average sequence values : \",mvavg_seq)\n",
    "print(moving_average(num_list,mvavg,mvavg_seq))"
   ]
  },
  {
   "cell_type": "code",
   "execution_count": 34,
   "metadata": {},
   "outputs": [
    {
     "name": "stdout",
     "output_type": "stream",
     "text": [
      "Number of moving average sequence values :  11\n",
      "[   5.            4.66666667    5.66666667    6.66666667    9.66666667\n",
      "   28.66666667   49.33333333   72.66666667   84.           93.33333333\n",
      "  116.33333333]\n"
     ]
    }
   ],
   "source": [
    "#assignment Numpy-II -Test\n",
    "\n",
    "num_list = [3, 5, 7, 2, 8, 10, 11, 65, 72, 81, 99, 100, 150]\n",
    "mvavg = 3\n",
    "mvavg_seq = len(num_list) - mvavg + 1\n",
    "print(\"Number of moving average sequence values : \",mvavg_seq)\n",
    "print(moving_average(num_list,mvavg,mvavg_seq))"
   ]
  },
  {
   "cell_type": "code",
   "execution_count": null,
   "metadata": {},
   "outputs": [],
   "source": []
  }
 ],
 "metadata": {
  "kernelspec": {
   "display_name": "Python 3",
   "language": "python",
   "name": "python3"
  },
  "language_info": {
   "codemirror_mode": {
    "name": "ipython",
    "version": 3
   },
   "file_extension": ".py",
   "mimetype": "text/x-python",
   "name": "python",
   "nbconvert_exporter": "python",
   "pygments_lexer": "ipython3",
   "version": "3.6.4"
  }
 },
 "nbformat": 4,
 "nbformat_minor": 2
}
